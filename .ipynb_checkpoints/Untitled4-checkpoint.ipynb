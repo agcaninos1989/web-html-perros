{
 "cells": [
  {
   "cell_type": "code",
   "execution_count": 1,
   "id": "f66d595f",
   "metadata": {},
   "outputs": [],
   "source": [
    "import pandas as pd\n",
    "import numpy as np\n",
    "from string import ascii_lowercase"
   ]
  },
  {
   "cell_type": "code",
   "execution_count": 2,
   "id": "7be7f958",
   "metadata": {
    "scrolled": true
   },
   "outputs": [],
   "source": [
    "datos = {'X': [1,2,3,4,5], 'Y': [5,4,3,2,1], 'Z': [2,3,5,7,11]}\n",
    "\n",
    "indices = ['A','B','C','D','E']\n",
    "\n",
    "\n",
    "\n",
    "\n",
    "\n",
    "nombre = ['oliva','daniela','juan','geman','edward','alex','julio','edgar','angie','irlesa']\n",
    "puntaje = [11,np.nan,15.5,np.nan,8,19,13.5,np.nan,8,18]\n",
    "intentos = [1,3,2,3,2,3,1,1,2,1]\n",
    "califico = ['si','no','si','no','no','si','si','no','no','si']\n",
    "\n",
    "indices2 = ['A','B','C','D','E','F','G','H','I','J']\n",
    "\n",
    "jugadores = {'NOMBRE': nombre, 'PUNTAJE': puntaje, 'INTENTOS': intentos, 'CALIFICO': califico}\n",
    "\n"
   ]
  },
  {
   "cell_type": "code",
   "execution_count": 10,
   "id": "f0d0e5cc",
   "metadata": {},
   "outputs": [],
   "source": [
    "datos1 = {'X': [1,2,3,4,5], 'Y': [5,4,3,2,1], 'Z': [2,3,5,7,11]}\n",
    "datos2 = {'X': [34,65,45,78,90], 'Y': [11,22,33,44,55], 'Z': [55,44,33,22,11]}\n",
    "\n",
    "\n"
   ]
  },
  {
   "cell_type": "code",
   "execution_count": 11,
   "id": "b9894596",
   "metadata": {},
   "outputs": [
    {
     "data": {
      "text/html": [
       "<div>\n",
       "<style scoped>\n",
       "    .dataframe tbody tr th:only-of-type {\n",
       "        vertical-align: middle;\n",
       "    }\n",
       "\n",
       "    .dataframe tbody tr th {\n",
       "        vertical-align: top;\n",
       "    }\n",
       "\n",
       "    .dataframe thead th {\n",
       "        text-align: right;\n",
       "    }\n",
       "</style>\n",
       "<table border=\"1\" class=\"dataframe\">\n",
       "  <thead>\n",
       "    <tr style=\"text-align: right;\">\n",
       "      <th></th>\n",
       "      <th>X</th>\n",
       "      <th>Y</th>\n",
       "      <th>Z</th>\n",
       "    </tr>\n",
       "  </thead>\n",
       "  <tbody>\n",
       "    <tr>\n",
       "      <th>0</th>\n",
       "      <td>34</td>\n",
       "      <td>11</td>\n",
       "      <td>55</td>\n",
       "    </tr>\n",
       "    <tr>\n",
       "      <th>1</th>\n",
       "      <td>65</td>\n",
       "      <td>22</td>\n",
       "      <td>44</td>\n",
       "    </tr>\n",
       "    <tr>\n",
       "      <th>2</th>\n",
       "      <td>45</td>\n",
       "      <td>33</td>\n",
       "      <td>33</td>\n",
       "    </tr>\n",
       "    <tr>\n",
       "      <th>3</th>\n",
       "      <td>78</td>\n",
       "      <td>44</td>\n",
       "      <td>22</td>\n",
       "    </tr>\n",
       "    <tr>\n",
       "      <th>4</th>\n",
       "      <td>90</td>\n",
       "      <td>55</td>\n",
       "      <td>11</td>\n",
       "    </tr>\n",
       "  </tbody>\n",
       "</table>\n",
       "</div>"
      ],
      "text/plain": [
       "    X   Y   Z\n",
       "0  34  11  55\n",
       "1  65  22  44\n",
       "2  45  33  33\n",
       "3  78  44  22\n",
       "4  90  55  11"
      ]
     },
     "execution_count": 11,
     "metadata": {},
     "output_type": "execute_result"
    }
   ],
   "source": [
    "df = pd.DataFrame(data=datos2)\n",
    "\n",
    "df"
   ]
  },
  {
   "cell_type": "raw",
   "id": "0ef7c1b3",
   "metadata": {},
   "source": []
  },
  {
   "cell_type": "code",
   "execution_count": null,
   "id": "14879c0c",
   "metadata": {},
   "outputs": [],
   "source": []
  },
  {
   "cell_type": "code",
   "execution_count": null,
   "id": "cd164b54",
   "metadata": {},
   "outputs": [],
   "source": []
  }
 ],
 "metadata": {
  "kernelspec": {
   "display_name": "Python 3 (ipykernel)",
   "language": "python",
   "name": "python3"
  },
  "language_info": {
   "codemirror_mode": {
    "name": "ipython",
    "version": 3
   },
   "file_extension": ".py",
   "mimetype": "text/x-python",
   "name": "python",
   "nbconvert_exporter": "python",
   "pygments_lexer": "ipython3",
   "version": "3.11.4"
  }
 },
 "nbformat": 4,
 "nbformat_minor": 5
}
